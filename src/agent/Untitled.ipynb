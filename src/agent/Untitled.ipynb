{
 "cells": [
  {
   "cell_type": "code",
   "execution_count": 1,
   "id": "24409e05-c3d3-4b48-995f-a65e854a753c",
   "metadata": {},
   "outputs": [
    {
     "ename": "ImportError",
     "evalue": "attempted relative import with no known parent package",
     "output_type": "error",
     "traceback": [
      "\u001b[31m---------------------------------------------------------------------------\u001b[39m",
      "\u001b[31mImportError\u001b[39m                               Traceback (most recent call last)",
      "\u001b[36mCell\u001b[39m\u001b[36m \u001b[39m\u001b[32mIn[1]\u001b[39m\u001b[32m, line 11\u001b[39m\n\u001b[32m      8\u001b[39m \u001b[38;5;28;01mfrom\u001b[39;00m\u001b[38;5;250m \u001b[39m\u001b[34;01mlanggraph\u001b[39;00m\u001b[34;01m.\u001b[39;00m\u001b[34;01mprebuilt\u001b[39;00m\u001b[38;5;250m \u001b[39m\u001b[38;5;28;01mimport\u001b[39;00m tools_condition, ToolNode\n\u001b[32m      9\u001b[39m \u001b[38;5;28;01mfrom\u001b[39;00m\u001b[38;5;250m \u001b[39m\u001b[34;01mlanggraph\u001b[39;00m\u001b[34;01m.\u001b[39;00m\u001b[34;01mcheckpoint\u001b[39;00m\u001b[34;01m.\u001b[39;00m\u001b[34;01mmemory\u001b[39;00m\u001b[38;5;250m \u001b[39m\u001b[38;5;28;01mimport\u001b[39;00m MemorySaver\n\u001b[32m---> \u001b[39m\u001b[32m11\u001b[39m \u001b[38;5;28;01mfrom\u001b[39;00m\u001b[38;5;250m \u001b[39m\u001b[34;01m.\u001b[39;00m\u001b[34;01mstate\u001b[39;00m\u001b[38;5;250m \u001b[39m\u001b[38;5;28;01mimport\u001b[39;00m MessagesState\n\u001b[32m     13\u001b[39m load_dotenv()\n\u001b[32m     15\u001b[39m GOOGLE_API_KEY = os.environ.get(\u001b[33m'\u001b[39m\u001b[33mGOOGLE_API_KEY\u001b[39m\u001b[33m'\u001b[39m)\n",
      "\u001b[31mImportError\u001b[39m: attempted relative import with no known parent package"
     ]
    }
   ],
   "source": [
    "import os\n",
    "from dotenv import load_dotenv\n",
    "from langchain_google_genai import ChatGoogleGenerativeAI\n",
    "import asyncio\n",
    "from langchain_mcp_adapters.client import MultiServerMCPClient\n",
    "from langchain_core.messages import SystemMessage, HumanMessage, AIMessage\n",
    "from langgraph.graph import StateGraph, START, END\n",
    "from langgraph.prebuilt import tools_condition, ToolNode\n",
    "from langgraph.checkpoint.memory import MemorySaver\n",
    "\n",
    "from .state import MessagesState\n",
    "\n",
    "load_dotenv()\n",
    "\n",
    "GOOGLE_API_KEY = os.environ.get('GOOGLE_API_KEY')\n",
    "\n",
    "async def create_graph():\n",
    "    client = MultiServerMCPClient({\n",
    "        \"tools_server\": {\n",
    "            \"command\": \"uv\",\n",
    "            \"args\": [\"run\", \"src/server/tools.py\"],\n",
    "            \"transport\": \"stdio\"\n",
    "        },\n",
    "        \"prompt_server\": {\n",
    "            \"command\": \"uv\",\n",
    "            \"args\": [\"run\", \"src/server/prompts.py\"],\n",
    "            \"transport\": \"stdio\"\n",
    "        }\n",
    "    })\n",
    "    llm = ChatGoogleGenerativeAI(model = 'gemini-2.0-flash', temperature=0, google_api_key = GOOGLE_API_KEY)\n",
    "    tools = await client.get_tools(server_name=\"tools_server\")\n",
    "\n",
    "    llm_with_tools = llm.bind_tools(tools)\n",
    "    \n",
    "    sys_prompt = SystemMessage(str(await client.get_prompt(server_name=\"prompt_server\", prompt_name=\"system_prompt\")))\n",
    "    \n",
    "    def intent_and_slot_validator(state: MessagesState):\n",
    "        user_query = input('Enter your query: ')\n",
    "        return {'messages': [HumanMessage(content=user_query)]}\n",
    "    \n",
    "    def agent_call(state: MessagesState):\n",
    "        # summary will help reducing token count\n",
    "        return {'messages': llm_with_tools.invoke([sys_prompt] + [state['summary']] + state['messages'])}\n",
    "\n",
    "    builder = StateGraph(MessagesState)\n",
    "\n",
    "    builder.add_node('Query Validator', intent_and_slot_validator)\n",
    "    builder.add_node('Agent', agent_call)\n",
    "    builder.add_node('tools', ToolNode(tools))\n",
    "    # LOGIC\n",
    "    builder.add_edge(START, 'Human')\n",
    "    builder.add_edge('Human', 'Agent')\n",
    "    builder.add_conditional_edges('Agent', tools_condition)\n",
    "    builder.add_edge('tools', 'Human')\n",
    "\n",
    "    memory = MemorySaver()\n",
    "    graph = builder.compile(checkpointer=memory)\n",
    "\n",
    "    return graph "
   ]
  }
 ],
 "metadata": {
  "kernelspec": {
   "display_name": "Construction",
   "language": "python",
   "name": "construction"
  },
  "language_info": {
   "codemirror_mode": {
    "name": "ipython",
    "version": 3
   },
   "file_extension": ".py",
   "mimetype": "text/x-python",
   "name": "python",
   "nbconvert_exporter": "python",
   "pygments_lexer": "ipython3",
   "version": "3.11.8"
  }
 },
 "nbformat": 4,
 "nbformat_minor": 5
}
