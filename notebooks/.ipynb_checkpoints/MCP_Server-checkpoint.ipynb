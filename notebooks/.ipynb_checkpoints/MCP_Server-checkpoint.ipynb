{
 "cells": [
  {
   "cell_type": "code",
   "execution_count": 8,
   "id": "da87716a-2dc8-44f7-80e6-652fd86cf7fc",
   "metadata": {},
   "outputs": [
    {
     "name": "stdout",
     "output_type": "stream",
     "text": [
      "Overwriting mcpserver.py\n"
     ]
    }
   ],
   "source": [
    "%%writefile mcpserver.py\n",
    "# This will generate our MCP server\n",
    "\n",
    "from mcp.server.fastmcp import FastMCP\n",
    "\n",
    "mcp = FastMCP('Static_Server')\n",
    "\n",
    "@mcp.tool()\n",
    "def measure_area(region):\n",
    "    ''' Measures area of a specified region\n",
    "    Args:\n",
    "    Region: A region from the drawing\n",
    "    '''\n",
    "    return f\"100\"\n",
    "\n",
    "@mcp.tool()\n",
    "def get_scale(drawing):\n",
    "    ''' Fetches the scale used in a drawing\n",
    "    Args:\n",
    "    drawing: A drawing object\n",
    "    '''\n",
    "    # drawing processing steps\n",
    "    scale = 'meter'\n",
    "    return scale\n",
    "\n",
    "\n",
    "@mcp.tool()\n",
    "def query_pipe_info(location):\n",
    "    '''\n",
    "    Returns information about a water pipe at a specified location.\n",
    "\n",
    "    Args:\n",
    "    location: A location in the drawing\n",
    "\n",
    "    Returns:\n",
    "    A dictionary containing attributes about the pipe, such as:\n",
    "      - pipe_id\n",
    "      - diameter\n",
    "      - length\n",
    "      - installation_date\n",
    "      - last_inspection_date\n",
    "      - condition\n",
    "    '''\n",
    "    pipe_information = {\n",
    "        \"pipe_id\": \"WP-1023\",\n",
    "        \"diameter\": \"300 mm\",\n",
    "        \"length\": \"45.7 meters\",\n",
    "        \"installation_date\": \"2015-06-23\",\n",
    "        \"last_inspection_date\": \"2024-12-15\",\n",
    "        \"condition\": \"Good\"\n",
    "    }\n",
    "\n",
    "    return pipe_information\n",
    "\n",
    "\n",
    "if __name__ == '__main__':\n",
    "    mcp.run(transport='stdio')\n",
    "\n"
   ]
  }
 ],
 "metadata": {
  "kernelspec": {
   "display_name": "ConstructionAgent",
   "language": "python",
   "name": ".venv"
  },
  "language_info": {
   "codemirror_mode": {
    "name": "ipython",
    "version": 3
   },
   "file_extension": ".py",
   "mimetype": "text/x-python",
   "name": "python",
   "nbconvert_exporter": "python",
   "pygments_lexer": "ipython3",
   "version": "3.11.8"
  }
 },
 "nbformat": 4,
 "nbformat_minor": 5
}
