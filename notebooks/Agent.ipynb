{
 "cells": [
  {
   "cell_type": "code",
   "execution_count": 272,
   "id": "e9b56473-2e02-4382-a39e-47c70ad0734e",
   "metadata": {},
   "outputs": [],
   "source": [
    "import os\n",
    "from dotenv import load_dotenv\n",
    "from langchain_google_genai import ChatGoogleGenerativeAI\n",
    "import asyncio\n",
    "from langchain_mcp_adapters.client import MultiServerMCPClient\n",
    "from langchain_core.messages import SystemMessage, HumanMessage, AIMessage, ToolMessage\n",
    "from typing import Annotated, TypedDict\n",
    "from langgraph.graph import StateGraph, START, END\n",
    "from langgraph.graph.message import add_messages\n",
    "from langgraph.prebuilt import tools_condition, ToolNode\n",
    "from langgraph.checkpoint.memory import MemorySaver\n",
    "import json\n",
    "import random\n",
    "\n",
    "load_dotenv()\n",
    "\n",
    "GOOGLE_API_KEY = os.environ.get('GOOGLE_API_KEY')\n",
    "\n",
    "class MessagesState(TypedDict):\n",
    "    messages: Annotated[list[str], add_messages]\n",
    "    summary: str\n",
    "\n",
    "async def create_graph():\n",
    "    client = MultiServerMCPClient({\n",
    "        \"dummy_server\": {\n",
    "            \"command\": \"uv\",\n",
    "            \"args\": [\"run\", \"mcpserver.py\"],\n",
    "            \"transport\": \"stdio\"\n",
    "        }\n",
    "    })\n",
    "    llm = ChatGoogleGenerativeAI(model = 'gemini-2.0-flash', temperature=0, google_api_key = GOOGLE_API_KEY)\n",
    "    tools = await client.get_tools()\n",
    "\n",
    "    llm_with_tools = llm.bind_tools(tools)\n",
    "    \n",
    "    sys_prompt = await client.get_prompt(server_name=\"dummy_server\", prompt_name=\"system_prompt\")\n",
    "    query_validation_prompt = await client.get_prompt(server_name=\"dummy_server\", prompt_name=\"query_validation_prompt\")\n",
    "\n",
    "    async def get_tool_descriptions(tools):\n",
    "        descriptions = []\n",
    "    \n",
    "        for tool in tools:\n",
    "            tool_name = tool.name\n",
    "            description = tool.description.strip().split(\"\\n\")[0]  # First line only\n",
    "            args = tool.args_schema.get('properties', {})\n",
    "            required_args = tool.args_schema.get('required', [])\n",
    "    \n",
    "            arg_list = []\n",
    "            for arg in required_args:\n",
    "                arg_type = args.get(arg, {}).get(\"type\", \"string\")\n",
    "                arg_list.append(f\"{arg}: {arg_type}\")\n",
    "    \n",
    "            arg_string = \", \".join(arg_list)\n",
    "            full_description = f\"{tool_name}({arg_string}) → {description}\"\n",
    "            descriptions.append(full_description)\n",
    "    \n",
    "        return \"\\n\".join(f\"{i+1}.{d}\" for i, d in enumerate(descriptions))\n",
    "    \n",
    "    # we can add a conditional loop here after human query, to give human options to make prompt less ambiguous\n",
    "    async def intent_and_slot_validator(state: MessagesState):\n",
    "        user_query = state['messages'][-1]\n",
    "        tool_descriptions = get_tool_descriptions(tools)\n",
    "        validation_sys_message = SystemMessage(\n",
    "            content=query_validation_prompt[0].content.format(tool_descriptions=tool_descriptions)\n",
    "        )\n",
    "        result = await llm_with_tools.ainvoke([validation_sys_message, user_query])\n",
    "        return {'messages': [result]}\n",
    "\n",
    "    async def agent_call(state: MessagesState):\n",
    "        query = state['messages'][-1]\n",
    "        if isinstance(query, ToolMessage):\n",
    "            print(query)\n",
    "            result = await llm_with_tools.ainvoke(state['messages'])\n",
    "            return {'messages': [result]}\n",
    "        try:\n",
    "            query = query.content.strip('```json\\n').strip('```')\n",
    "            query = json.loads(query)\n",
    "        except json.JSONDecodeError as e:\n",
    "            print(f\"Error decoding JSON: {e}\")\n",
    "        print()\n",
    "        if query.get(\"unrelated\", 'true'):\n",
    "            return {\n",
    "                \"messages\": [\n",
    "                    AIMessage(content=\"Sorry, the query seems unfamiliar. I am a construction assistant and I can only help with construction related tasks.\")\n",
    "                ]\n",
    "            }\n",
    "        intents = query.get(\"intents\", [])\n",
    "        ambiguous_intents = [intent for intent in intents if intent[\"is_ambiguous\"]]\n",
    "\n",
    "        if ambiguous_intents:\n",
    "            clarification_prompt = SystemMessage(content=\"\"\"\n",
    "            You're a helpful assistant. A user query was mapped to one or more tool calls, but some tools couldn't be used due to missing arguments.\n",
    "            \n",
    "            Your job is to:\n",
    "            1. Read the JSON list of ambiguous tool intents.\n",
    "            2. For each, clearly explain what is missing.\n",
    "            3. Then ask the user nicely to provide that missing information.\n",
    "            Respond as a friendly assistant — not in JSON — just plain language.\n",
    "            \"\"\")\n",
    "    \n",
    "            human_message = HumanMessage(content=json.dumps(ambiguous_intents, indent=2))\n",
    "            clarification_response = await llm_with_tools.ainvoke([clarification_prompt, human_message])\n",
    "    \n",
    "            return {\n",
    "                \"messages\": [clarification_response]\n",
    "            }\n",
    "        tool_calls = [\n",
    "            ToolCall(\n",
    "                id=f\"call_{int(random.random() * 1e18)}\",  # large 18-digit integer\n",
    "                name=intent[\"tool\"],\n",
    "                args=intent[\"arguments\"]\n",
    "            )\n",
    "            for intent in intents\n",
    "        ]\n",
    "\n",
    "        tool_messages = AIMessage(\n",
    "            content=\"\",\n",
    "            tool_calls=tool_calls\n",
    "        )\n",
    "\n",
    "    \n",
    "        return {\"messages\": tool_messages}\n",
    "\n",
    "\n",
    "    builder = StateGraph(MessagesState)\n",
    "\n",
    "    builder.add_node('Query_Validation', intent_and_slot_validator)\n",
    "    builder.add_node('Agent', agent_call)\n",
    "    builder.add_node('tools', ToolNode(tools))\n",
    "    # LOGIC\n",
    "    builder.add_edge(START, 'Query_Validation')\n",
    "    builder.add_edge('Query_Validation', 'Agent')\n",
    "    builder.add_conditional_edges('Agent', tools_condition)\n",
    "    builder.add_edge('tools', 'Agent')\n",
    "\n",
    "    memory = MemorySaver()\n",
    "    graph = builder.compile(checkpointer=memory)\n",
    "\n",
    "    return graph, tools, sys_prompt, query_validation_prompt"
   ]
  },
  {
   "cell_type": "code",
   "execution_count": 273,
   "id": "411eef93-4b4a-438f-830e-8af7d9fb3102",
   "metadata": {},
   "outputs": [
    {
     "name": "stderr",
     "output_type": "stream",
     "text": [
      "I0000 00:00:1749793039.855638   55633 fork_posix.cc:71] Other threads are currently calling into gRPC, skipping fork() handlers\n",
      "I0000 00:00:1749793040.352883   55633 fork_posix.cc:71] Other threads are currently calling into gRPC, skipping fork() handlers\n",
      "I0000 00:00:1749793040.670564   55633 fork_posix.cc:71] Other threads are currently calling into gRPC, skipping fork() handlers\n"
     ]
    },
    {
     "data": {
      "image/png": "[encoded data removed]",
      "text/plain": [
       "<langgraph.graph.state.CompiledStateGraph object at 0x127548c90>"
      ]
     },
     "execution_count": 273,
     "metadata": {},
     "output_type": "execute_result"
    }
   ],
   "source": [
    "graph, tools, sys_prompt, query_validation_prompt = await create_graph()\n",
    "\n",
    "graph"
   ]
  },
  {
   "cell_type": "code",
   "execution_count": 276,
   "id": "d476e8ff-8196-46b9-afa8-8fe7cf391a92",
   "metadata": {},
   "outputs": [
    {
     "name": "stderr",
     "output_type": "stream",
     "text": [
      "/Users/utkarshsharma/Desktop/Current_Projects/ConstructionAgent/.venv/lib/python3.11/site-packages/langgraph/utils/runnable.py:440: RuntimeWarning: coroutine 'create_graph.<locals>.get_tool_descriptions' was never awaited\n",
      "  ret = await self.afunc(*args, **kwargs)\n",
      "RuntimeWarning: Enable tracemalloc to get the object allocation traceback\n"
     ]
    },
    {
     "name": "stdout",
     "output_type": "stream",
     "text": [
      "\n"
     ]
    },
    {
     "data": {
      "text/plain": [
       "{'messages': [HumanMessage(content='Find the area of region A and scale of drawing', additional_kwargs={}, response_metadata={}, id='45811731-9369-4759-832a-09d8645e0cae'),\n",
       "  AIMessage(content='```json\\n{\\n  \"unrelated\": false,\\n  \"intents\": [\\n    {\\n      \"tool\": \"measure_area\",\\n      \"is_ambiguous\": false,\\n      \"ambiguous_reason\": null,\\n      \"arguments\": {\\n        \"region\": \"A\"\\n      },\\n      \"missing_arguments\": []\\n    },\\n    {\\n      \"tool\": \"get_scale\",\\n      \"is_ambiguous\": true,\\n      \"ambiguous_reason\": \"The drawing argument is missing.\",\\n      \"arguments\": {\\n        \"drawing\": null\\n      },\\n      \"missing_arguments\": [\\n        \"drawing\"\\n      ]\\n    }\\n  ]\\n}\\n```', additional_kwargs={}, response_metadata={'prompt_feedback': {'block_reason': 0, 'safety_ratings': []}, 'finish_reason': 'STOP', 'model_name': 'gemini-2.0-flash', 'safety_ratings': []}, id='run--96123086-4647-4a4d-ae9f-84b6d5f9072c-0', usage_metadata={'input_tokens': 469, 'output_tokens': 155, 'total_tokens': 624, 'input_token_details': {'cache_read': 0}}),\n",
       "  AIMessage(content='It looks like I need the name of the drawing to fetch the scale. Could you please provide the drawing name?', additional_kwargs={}, response_metadata={'prompt_feedback': {'block_reason': 0, 'safety_ratings': []}, 'finish_reason': 'STOP', 'model_name': 'gemini-2.0-flash', 'safety_ratings': []}, id='run--35f7ec7b-93d4-478e-80e4-7160636c7ffa-0', usage_metadata={'input_tokens': 315, 'output_tokens': 24, 'total_tokens': 339, 'input_token_details': {'cache_read': 0}})]}"
      ]
     },
     "execution_count": 276,
     "metadata": {},
     "output_type": "execute_result"
    }
   ],
   "source": [
    "thread_config = {'configurable': {'thread_id': 2}}\n",
    "await graph.ainvoke({'messages': ['Find the area of region A and scale of drawing']}, thread_config)"
   ]
  },
  {
   "cell_type": "code",
   "execution_count": null,
   "id": "b73b3c40-6172-4f04-a965-78bf2c9cd498",
   "metadata": {},
   "outputs": [],
   "source": []
  },
  {
   "cell_type": "code",
   "execution_count": 228,
   "id": "7936f01a-3096-4994-a12c-2138e2cdaa8b",
   "metadata": {},
   "outputs": [
    {
     "data": {
      "text/plain": [
       "StateSnapshot(values={'messages': [HumanMessage(content='Find the area of region A', additional_kwargs={}, response_metadata={}, id='e2a004cb-f390-4657-bf3b-9279d551d61b'), AIMessage(content='```json\\n{\\n  \"unrelated\": false,\\n  \"intents\": [\\n    {\\n      \"tool\": \"measure_area\",\\n      \"is_ambiguous\": false,\\n      \"ambiguous_reason\": null,\\n      \"arguments\": {\\n        \"region\": \"region A\"\\n      },\\n      \"missing_arguments\": []\\n    }\\n  ]\\n}\\n```', additional_kwargs={}, response_metadata={'prompt_feedback': {'block_reason': 0, 'safety_ratings': []}, 'finish_reason': 'STOP', 'model_name': 'gemini-2.0-flash', 'safety_ratings': []}, id='run--481fbcc4-e9ff-49f1-9878-6b417b772495-0', usage_metadata={'input_tokens': 499, 'output_tokens': 86, 'total_tokens': 585, 'input_token_details': {'cache_read': 0}}), AIMessage(content='', additional_kwargs={'tool_calls': [{'name': 'measure_area', 'arguments': {'region': 'region A'}}]}, response_metadata={}, id='786fdefa-9b0a-4e82-83d1-20d9d1c753a6')]}, next=(), config={'configurable': {'thread_id': '4', 'checkpoint_ns': '', 'checkpoint_id': '1f0480b3-bc9e-617e-8002-1e704f62e925'}}, metadata={'source': 'loop', 'writes': {'Agent': {'messages': AIMessage(content='', additional_kwargs={'tool_calls': [{'name': 'measure_area', 'arguments': {'region': 'region A'}}]}, response_metadata={}, id='786fdefa-9b0a-4e82-83d1-20d9d1c753a6')}}, 'step': 2, 'parents': {}, 'thread_id': 4}, created_at='2025-06-13T04:02:33.341158+00:00', parent_config={'configurable': {'thread_id': '4', 'checkpoint_ns': '', 'checkpoint_id': '1f0480b3-bc8d-622a-8001-3579c104d92d'}}, tasks=(), interrupts=())"
      ]
     },
     "execution_count": 228,
     "metadata": {},
     "output_type": "execute_result"
    }
   ],
   "source": [
    "graph.get_state(thread_config)"
   ]
  },
  {
   "cell_type": "code",
   "execution_count": 176,
   "id": "023cf2ba-fadc-45a4-a9ad-7b2a0cc1c998",
   "metadata": {},
   "outputs": [
    {
     "data": {
      "text/plain": [
       "'{\\n  \"unrelated\": true,\\n  \"intents\": []\\n}'"
      ]
     },
     "execution_count": 176,
     "metadata": {},
     "output_type": "execute_result"
    }
   ],
   "source": [
    "s = graph.get_state(thread_config).values['messages'][1].content\n",
    "s\n",
    "json_string_clean = s.strip('```json\\n').strip('```')\n",
    "json_string_clean"
   ]
  },
  {
   "cell_type": "code",
   "execution_count": 177,
   "id": "6422a906-2c62-4273-93b7-f559a086c62b",
   "metadata": {},
   "outputs": [
    {
     "data": {
      "text/plain": [
       "{'unrelated': True, 'intents': []}"
      ]
     },
     "execution_count": 177,
     "metadata": {},
     "output_type": "execute_result"
    }
   ],
   "source": [
    "json.loads(json_string_clean)"
   ]
  },
  {
   "cell_type": "code",
   "execution_count": 183,
   "id": "7207d13d-fefd-453e-977d-5c2d87c046bc",
   "metadata": {},
   "outputs": [
    {
     "data": {
      "text/plain": [
       "'```json\\n{\\n  \"unrelated\": true,\\n  \"intents\": []\\n}\\n```'"
      ]
     },
     "execution_count": 183,
     "metadata": {},
     "output_type": "execute_result"
    }
   ],
   "source": [
    "s"
   ]
  }
 ],
 "metadata": {
  "kernelspec": {
   "display_name": "Construction",
   "language": "python",
   "name": "construction"
  },
  "language_info": {
   "codemirror_mode": {
    "name": "ipython",
    "version": 3
   },
   "file_extension": ".py",
   "mimetype": "text/x-python",
   "name": "python",
   "nbconvert_exporter": "python",
   "pygments_lexer": "ipython3",
   "version": "3.11.8"
  }
 },
 "nbformat": 4,
 "nbformat_minor": 5
}
