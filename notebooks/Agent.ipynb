{
 "cells": [
  {
   "cell_type": "code",
   "execution_count": 2,
   "id": "e9b56473-2e02-4382-a39e-47c70ad0734e",
   "metadata": {},
   "outputs": [],
   "source": [
    "import os\n",
    "from dotenv import load_dotenv\n",
    "from langchain_google_genai import ChatGoogleGenerativeAI\n",
    "import asyncio\n",
    "from langchain_mcp_adapters.client import MultiServerMCPClient\n",
    "from langchain_core.messages import SystemMessage, HumanMessage, AIMessage\n",
    "from typing import Annotated, TypedDict\n",
    "from langgraph.graph import StateGraph, START, END\n",
    "from langgraph.graph.message import add_messages\n",
    "from langgraph.prebuilt import tools_condition, ToolNode\n",
    "from langgraph.checkpoint.memory import MemorySaver\n",
    "\n",
    "load_dotenv()\n",
    "\n",
    "GOOGLE_API_KEY = os.environ.get('GOOGLE_API_KEY')\n",
    "class MessagesState(TypedDict):\n",
    "    messages: Annotated[list[str], add_messages]\n",
    "    summary: str\n",
    "\n",
    "async def create_graph():\n",
    "    client = MultiServerMCPClient({\n",
    "        \"dummy_server\": {\n",
    "            \"command\": \"uv\",\n",
    "            \"args\": [\"run\", \"mcpserver.py\"],\n",
    "            \"transport\": \"stdio\"\n",
    "        }\n",
    "    })\n",
    "    llm = ChatGoogleGenerativeAI(model = 'gemini-2.0-flash', temperature=0, google_api_key = GOOGLE_API_KEY)\n",
    "    tools = await client.get_tools()\n",
    "\n",
    "    llm_with_tools = llm.bind_tools(tools)\n",
    "    \n",
    "    sys_prompt = SystemMessage(str(await client.get_prompt(server_name=\"dummy_server\", prompt_name=\"system_prompt\")))\n",
    "    # we can add a conditional loop here after human query, to give human options to make prompt less ambiguous\n",
    "    def human_input(state: MessagesState):\n",
    "        user_query = input('Enter your query: ')\n",
    "        return {'messages': [HumanMessage(content=user_query)]}\n",
    "    \n",
    "    def agent_call(state: MessagesState):\n",
    "        # summary will help reducing token count\n",
    "        return {'messages': llm_with_tools.invoke([sys_prompt] + [state['summary']] + state['messages'])}\n",
    "\n",
    "    builder = StateGraph(MessagesState)\n",
    "\n",
    "    builder.add_node('Human', human_input)\n",
    "    builder.add_node('Agent', agent_call)\n",
    "    builder.add_node('tools', ToolNode(tools))\n",
    "    # LOGIC\n",
    "    builder.add_edge(START, 'Human')\n",
    "    builder.add_edge('Human', 'Agent')\n",
    "    builder.add_conditional_edges('Agent', tools_condition)\n",
    "    builder.add_edge('tools', 'Human')\n",
    "\n",
    "    memory = MemorySaver()\n",
    "    graph = builder.compile(checkpointer=memory)\n",
    "\n",
    "    return graph"
   ]
  },
  {
   "cell_type": "code",
   "execution_count": 3,
   "id": "411eef93-4b4a-438f-830e-8af7d9fb3102",
   "metadata": {},
   "outputs": [
    {
     "data": {
      "image/png": "[encoded data removed]",
      "text/plain": [
       "<langgraph.graph.state.CompiledStateGraph object at 0x11dbe1f10>"
      ]
     },
     "execution_count": 3,
     "metadata": {},
     "output_type": "execute_result"
    }
   ],
   "source": [
    "graph = await create_graph()\n",
    "\n",
    "graph"
   ]
  },
  {
   "cell_type": "code",
   "execution_count": 6,
   "id": "69cfb6fd-dc97-4f97-bc7e-ea2beac2eed1",
   "metadata": {},
   "outputs": [],
   "source": [
    "thread_config = {'configurable': {'thread_id': 2}}"
   ]
  },
  {
   "cell_type": "code",
   "execution_count": 7,
   "id": "b673fca4-6d5a-4ec3-a760-1f3a46eef9ee",
   "metadata": {},
   "outputs": [
    {
     "name": "stdin",
     "output_type": "stream",
     "text": [
      "Enter your query:  can you give area of region A\n",
      "Enter your query:  hi\n"
     ]
    },
    {
     "name": "stderr",
     "output_type": "stream",
     "text": [
      "/Users/utkarshsharma/Desktop/Current_Projects/ConstructionAgent/.venv/lib/python3.11/site-packages/langchain_google_genai/chat_models.py:1568: UserWarning: HumanMessage with empty content was removed to prevent API error\n",
      "  warnings.warn(\n"
     ]
    },
    {
     "data": {
      "text/plain": [
       "{'messages': [HumanMessage(content='Hi', additional_kwargs={}, response_metadata={}, id='c2e5a875-bb82-46f9-abab-db5dd44bb4b7'),\n",
       "  HumanMessage(content='can you give area of region A', additional_kwargs={}, response_metadata={}, id='58d18e7b-ebca-4ace-91ab-41b8322509b9'),\n",
       "  AIMessage(content='', additional_kwargs={'function_call': {'name': 'measure_area', 'arguments': '{\"region\": \"A\"}'}}, response_metadata={'prompt_feedback': {'block_reason': 0, 'safety_ratings': []}, 'finish_reason': 'STOP', 'model_name': 'gemini-2.0-flash', 'safety_ratings': []}, id='run--1458658b-ca65-4c77-a876-960fe535faaf-0', tool_calls=[{'name': 'measure_area', 'args': {'region': 'A'}, 'id': 'e07c5838-1e2f-43e7-8b60-34051f8383da', 'type': 'tool_call'}], usage_metadata={'input_tokens': 305, 'output_tokens': 5, 'total_tokens': 310, 'input_token_details': {'cache_read': 0}}),\n",
       "  ToolMessage(content='100', name='measure_area', id='37ffc2c5-491b-4194-aebd-73b123c642b2', tool_call_id='e07c5838-1e2f-43e7-8b60-34051f8383da'),\n",
       "  HumanMessage(content='hi', additional_kwargs={}, response_metadata={}, id='11e04bfb-9fa9-4d52-abac-f12ad9f222f2'),\n",
       "  AIMessage(content='The area of region A is 100.', additional_kwargs={}, response_metadata={'prompt_feedback': {'block_reason': 0, 'safety_ratings': []}, 'finish_reason': 'STOP', 'model_name': 'gemini-2.0-flash', 'safety_ratings': []}, id='run--339ecfc6-75b1-455e-b223-ff0cf74d7112-0', usage_metadata={'input_tokens': 316, 'output_tokens': 12, 'total_tokens': 328, 'input_token_details': {'cache_read': 0}})],\n",
       " 'summary': ''}"
      ]
     },
     "execution_count": 7,
     "metadata": {},
     "output_type": "execute_result"
    }
   ],
   "source": [
    "await graph.ainvoke({'messages': 'Hi', 'summary': \"\"}, thread_config)"
   ]
  }
 ],
 "metadata": {
  "kernelspec": {
   "display_name": "Construction",
   "language": "python",
   "name": "construction"
  },
  "language_info": {
   "codemirror_mode": {
    "name": "ipython",
    "version": 3
   },
   "file_extension": ".py",
   "mimetype": "text/x-python",
   "name": "python",
   "nbconvert_exporter": "python",
   "pygments_lexer": "ipython3",
   "version": "3.11.8"
  }
 },
 "nbformat": 4,
 "nbformat_minor": 5
}
